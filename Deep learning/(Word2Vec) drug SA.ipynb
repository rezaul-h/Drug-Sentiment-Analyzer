{
 "cells": [
  {
   "cell_type": "code",
   "execution_count": 22,
   "id": "k5fgjgMQzMD3",
   "metadata": {
    "colab": {
     "base_uri": "https://localhost:8080/"
    },
    "executionInfo": {
     "elapsed": 41444,
     "status": "ok",
     "timestamp": 1654279701361,
     "user": {
      "displayName": "the rexa",
      "userId": "02346515912121062735"
     },
     "user_tz": -360
    },
    "id": "k5fgjgMQzMD3",
    "outputId": "cde46dfc-2d78-48a9-e059-d7777aa5691c"
   },
   "outputs": [
    {
     "name": "stdout",
     "output_type": "stream",
     "text": [
      "[name: \"/device:CPU:0\"\n",
      "device_type: \"CPU\"\n",
      "memory_limit: 268435456\n",
      "locality {\n",
      "}\n",
      "incarnation: 13126840626469583385\n",
      ", name: \"/device:GPU:0\"\n",
      "device_type: \"GPU\"\n",
      "memory_limit: 10087235584\n",
      "locality {\n",
      "  bus_id: 1\n",
      "  links {\n",
      "  }\n",
      "}\n",
      "incarnation: 6197979386426572078\n",
      "physical_device_desc: \"device: 0, name: NVIDIA GeForce RTX 3060, pci bus id: 0000:01:00.0, compute capability: 8.6\"\n",
      "]\n"
     ]
    }
   ],
   "source": [
    "from tensorflow.python.client import device_lib\n",
    "print(device_lib.list_local_devices())"
   ]
  },
  {
   "cell_type": "code",
   "execution_count": 23,
   "id": "a12ae2b3",
   "metadata": {
    "executionInfo": {
     "elapsed": 1151,
     "status": "ok",
     "timestamp": 1654279702478,
     "user": {
      "displayName": "the rexa",
      "userId": "02346515912121062735"
     },
     "user_tz": -360
    },
    "id": "a12ae2b3"
   },
   "outputs": [],
   "source": [
    "import pandas as pd\n",
    "import numpy as np\n",
    "import matplotlib.pyplot as plt\n",
    "import seaborn as sns\n",
    "sns.set_style('darkgrid')\n",
    "import os\n",
    "from tqdm.notebook import tqdm\n",
    "from wordcloud import WordCloud, STOPWORDS, ImageColorGenerator\n",
    "from sklearn.model_selection import train_test_split\n",
    "from sklearn import preprocessing\n",
    "from sklearn.metrics import *\n",
    "os.environ['TF_CPP_MIN_LOG_LEVEL'] = '3'\n",
    "import warnings\n",
    "warnings.filterwarnings(\"ignore\")\n",
    "warnings.filterwarnings('ignore', category=DeprecationWarning)\n",
    "warnings.filterwarnings('ignore', category=FutureWarning)"
   ]
  },
  {
   "cell_type": "code",
   "execution_count": 24,
   "id": "BdzjVhHI4SPQ",
   "metadata": {
    "colab": {
     "base_uri": "https://localhost:8080/"
    },
    "executionInfo": {
     "elapsed": 7923,
     "status": "ok",
     "timestamp": 1654279710382,
     "user": {
      "displayName": "the rexa",
      "userId": "02346515912121062735"
     },
     "user_tz": -360
    },
    "id": "BdzjVhHI4SPQ",
    "outputId": "06a3598e-84a7-4cfa-8c19-64ad8899933c"
   },
   "outputs": [
    {
     "name": "stdout",
     "output_type": "stream",
     "text": [
      "Requirement already satisfied: tensorflow-addons in c:\\users\\ovi\\anaconda3\\envs\\tf_gpu\\lib\\site-packages (0.17.0)\n",
      "Requirement already satisfied: typeguard>=2.7 in c:\\users\\ovi\\anaconda3\\envs\\tf_gpu\\lib\\site-packages (from tensorflow-addons) (2.13.3)\n",
      "Requirement already satisfied: packaging in c:\\users\\ovi\\anaconda3\\envs\\tf_gpu\\lib\\site-packages (from tensorflow-addons) (21.3)\n",
      "Requirement already satisfied: pyparsing!=3.0.5,>=2.0.2 in c:\\users\\ovi\\anaconda3\\envs\\tf_gpu\\lib\\site-packages (from packaging->tensorflow-addons) (3.0.4)\n"
     ]
    }
   ],
   "source": [
    "!pip install tensorflow-addons"
   ]
  },
  {
   "cell_type": "code",
   "execution_count": 25,
   "id": "27ef3e18",
   "metadata": {
    "executionInfo": {
     "elapsed": 2433,
     "status": "ok",
     "timestamp": 1654279712802,
     "user": {
      "displayName": "the rexa",
      "userId": "02346515912121062735"
     },
     "user_tz": -360
    },
    "id": "27ef3e18"
   },
   "outputs": [],
   "source": [
    "#needed for DNN \n",
    "import tensorflow as tf\n",
    "# import tensorflow_addons as tfa\n",
    "from tensorflow import keras\n",
    "from tensorflow.keras import regularizers\n",
    "from tensorflow.keras.regularizers import l2,l1\n",
    "from tensorflow.keras.layers import Dropout\n",
    "from tensorflow.keras.optimizers import Adam, RMSprop\n",
    "from tensorflow.keras import models\n",
    "from tensorflow.keras import layers\n",
    "from tensorflow.keras.layers import LSTM,GRU,Bidirectional\n",
    "from tensorflow.keras.layers import Flatten\n",
    "from tensorflow.keras.models import load_model\n",
    "from tensorflow.keras.callbacks import ModelCheckpoint,ReduceLROnPlateau\n",
    "# from sklearn.metrics import confusion_matrix\n",
    "from sklearn.metrics import classification_report \n",
    "# from sklearn.model_selection import train_test_split\n",
    "# from sklearn.metrics import accuracy_score,precision_score,recall_score,f1_score,roc_auc_score\n",
    "# from sklearn.metrics import average_precision_score,roc_auc_score, roc_curve, precision_recall_curve\n",
    "# from sklearn.preprocessing import LabelEncoder\n",
    "# from tensorflow.keras.preprocessing.text import Tokenizer\n",
    "# from sklearn.utils import shuffle"
   ]
  },
  {
   "cell_type": "code",
   "execution_count": 26,
   "id": "mjVkFz6JzcV1",
   "metadata": {
    "executionInfo": {
     "elapsed": 8,
     "status": "ok",
     "timestamp": 1654279712803,
     "user": {
      "displayName": "the rexa",
      "userId": "02346515912121062735"
     },
     "user_tz": -360
    },
    "id": "mjVkFz6JzcV1"
   },
   "outputs": [],
   "source": [
    "PATH = '/Ml files/drug review SA/'"
   ]
  },
  {
   "cell_type": "code",
   "execution_count": 27,
   "id": "76af378a",
   "metadata": {
    "colab": {
     "base_uri": "https://localhost:8080/",
     "height": 206
    },
    "executionInfo": {
     "elapsed": 3261,
     "status": "ok",
     "timestamp": 1654279716058,
     "user": {
      "displayName": "the rexa",
      "userId": "02346515912121062735"
     },
     "user_tz": -360
    },
    "id": "76af378a",
    "outputId": "401cf099-cfa1-4511-a567-cf8f5f819028"
   },
   "outputs": [
    {
     "data": {
      "text/html": [
       "<div>\n",
       "<style scoped>\n",
       "    .dataframe tbody tr th:only-of-type {\n",
       "        vertical-align: middle;\n",
       "    }\n",
       "\n",
       "    .dataframe tbody tr th {\n",
       "        vertical-align: top;\n",
       "    }\n",
       "\n",
       "    .dataframe thead th {\n",
       "        text-align: right;\n",
       "    }\n",
       "</style>\n",
       "<table border=\"1\" class=\"dataframe\">\n",
       "  <thead>\n",
       "    <tr style=\"text-align: right;\">\n",
       "      <th></th>\n",
       "      <th>cleaned_reviews</th>\n",
       "      <th>class</th>\n",
       "    </tr>\n",
       "  </thead>\n",
       "  <tbody>\n",
       "    <tr>\n",
       "      <th>0</th>\n",
       "      <td>side effect take combination bystolic mg fish oil</td>\n",
       "      <td>neutral</td>\n",
       "    </tr>\n",
       "    <tr>\n",
       "      <th>1</th>\n",
       "      <td>son halfway fourth week intuniv become concern...</td>\n",
       "      <td>positve</td>\n",
       "    </tr>\n",
       "    <tr>\n",
       "      <th>2</th>\n",
       "      <td>use take another oral contraceptive pill cycle...</td>\n",
       "      <td>positve</td>\n",
       "    </tr>\n",
       "    <tr>\n",
       "      <th>3</th>\n",
       "      <td>first time use form birth control glad go patc...</td>\n",
       "      <td>positve</td>\n",
       "    </tr>\n",
       "    <tr>\n",
       "      <th>4</th>\n",
       "      <td>suboxone completely turn life around feel heal...</td>\n",
       "      <td>positve</td>\n",
       "    </tr>\n",
       "  </tbody>\n",
       "</table>\n",
       "</div>"
      ],
      "text/plain": [
       "                                     cleaned_reviews    class\n",
       "0  side effect take combination bystolic mg fish oil  neutral\n",
       "1  son halfway fourth week intuniv become concern...  positve\n",
       "2  use take another oral contraceptive pill cycle...  positve\n",
       "3  first time use form birth control glad go patc...  positve\n",
       "4  suboxone completely turn life around feel heal...  positve"
      ]
     },
     "execution_count": 27,
     "metadata": {},
     "output_type": "execute_result"
    }
   ],
   "source": [
    "df = pd.read_csv(PATH + 'data/results/clean_df.csv')\n",
    "df = df.drop(['review','rating','vader_polarity', 'Review_Sentiment','blob_polarity', 'class_2' ], axis = 1)\n",
    "df.head()"
   ]
  },
  {
   "cell_type": "code",
   "execution_count": 28,
   "id": "YJDo7wV0nJH6",
   "metadata": {
    "colab": {
     "base_uri": "https://localhost:8080/"
    },
    "executionInfo": {
     "elapsed": 36,
     "status": "ok",
     "timestamp": 1654279716060,
     "user": {
      "displayName": "the rexa",
      "userId": "02346515912121062735"
     },
     "user_tz": -360
    },
    "id": "YJDo7wV0nJH6",
    "outputId": "8f2be04e-3f52-4654-9e27-9ab847566fdb"
   },
   "outputs": [
    {
     "name": "stdout",
     "output_type": "stream",
     "text": [
      "\n",
      "\t\t\t Label Encoding  \n",
      "Class Names:--> ['negative' 'neutral' 'positve']\n",
      "positve   2 \n",
      "\n",
      "negative   0 \n",
      "\n",
      "negative   0 \n",
      "\n",
      "positve   2 \n",
      "\n",
      "negative   0 \n",
      "\n",
      "negative   0 \n",
      "\n"
     ]
    }
   ],
   "source": [
    "# label encoding for output\n",
    "\n",
    "sample_data = [2000,3000,100,2004,3080,4020]\n",
    "\n",
    "def label_encoding(category,bool):\n",
    "  le = preprocessing.LabelEncoder()\n",
    "  le.fit(category)\n",
    "  encoded_labels = le.transform(category)\n",
    "  labels = np.array(encoded_labels) # Converting into numpy array\n",
    "  class_names =le.classes_ ## Define the class names again\n",
    "  if bool == True:\n",
    "    print(\"\\n\\t\\t\\t Label Encoding \",\"\\nClass Names:-->\",le.classes_)\n",
    "    for i in sample_data:\n",
    "      print(category[i],' ', encoded_labels[i],'\\n')\n",
    "    return labels\n",
    "\n",
    "labels = label_encoding(df['class'],True)"
   ]
  },
  {
   "cell_type": "code",
   "execution_count": 29,
   "id": "c3d1d6c1",
   "metadata": {
    "colab": {
     "base_uri": "https://localhost:8080/"
    },
    "executionInfo": {
     "elapsed": 411,
     "status": "ok",
     "timestamp": 1654279716454,
     "user": {
      "displayName": "the rexa",
      "userId": "02346515912121062735"
     },
     "user_tz": -360
    },
    "id": "c3d1d6c1",
    "outputId": "d25e0a2e-2f24-44d4-a1c7-6dd007386468"
   },
   "outputs": [
    {
     "name": "stdout",
     "output_type": "stream",
     "text": [
      "\n",
      "Dataset Distribution:\n",
      "\n",
      "\tSet Name \t\tSize\n",
      "\t========\t\t======\n",
      "\tFull\t\t\t 215063 \n",
      "\tTraining\t\t 163447 \n",
      "\tTest\t\t\t 43013 \n",
      "\tValidation\t\t 8603\n"
     ]
    }
   ],
   "source": [
    "# set aside 20% of train and test data for evaluation\n",
    "df.cleaned_reviews=df.cleaned_reviews.astype(str)\n",
    "\n",
    "X = df.cleaned_reviews\n",
    "Y = labels\n",
    "\n",
    "def dataset_split(inputs, tags):\n",
    "\n",
    "    X,X_test,y,y_test = train_test_split(inputs,tags,train_size = 0.8,\n",
    "                                                  test_size = 0.2,random_state =42)\n",
    "    X_train,X_valid,y_train,y_valid = train_test_split(X,y,train_size = 0.95,\n",
    "                                                  test_size = 0.05,random_state =42)\n",
    "    print(\"\\nDataset Distribution:\\n\")\n",
    "    print(\"\\tSet Name\",\"\\t\\tSize\")\n",
    "    print(\"\\t========\\t\\t======\")\n",
    "\n",
    "    print(\"\\tFull\\t\\t\\t\",len(inputs),\n",
    "        \"\\n\\tTraining\\t\\t\",len(X_train),\n",
    "        \"\\n\\tTest\\t\\t\\t\",len(X_test),\n",
    "        \"\\n\\tValidation\\t\\t\",len(X_valid))\n",
    "  \n",
    "    return X_train,X_valid,X_test,y_train,y_valid,y_test\n",
    "\n",
    "X_train,X_valid,X_test,y_train,y_valid,y_test = dataset_split(X,Y)"
   ]
  },
  {
   "cell_type": "code",
   "execution_count": 30,
   "id": "16398e2e",
   "metadata": {
    "colab": {
     "base_uri": "https://localhost:8080/"
    },
    "executionInfo": {
     "elapsed": 26976,
     "status": "ok",
     "timestamp": 1654279743427,
     "user": {
      "displayName": "the rexa",
      "userId": "02346515912121062735"
     },
     "user_tz": -360
    },
    "id": "16398e2e",
    "outputId": "c58ba66b-d12d-43b8-aa33-082b9f258cdb"
   },
   "outputs": [
    {
     "name": "stdout",
     "output_type": "stream",
     "text": [
      "Found 41326 unique tokens.\n"
     ]
    },
    {
     "data": {
      "text/plain": [
       "array([ 1523, 34783,     1,   231,   741,     1,  3501,   295,   362,\n",
       "         313,    14,   515,   160,   888,    27,  1437,   596,   399,\n",
       "           8,  3856,   736,    36,     8,   844,    23,   977,     0,\n",
       "           0,     0,     0,     0,     0,     0,     0,     0,     0,\n",
       "           0,     0,     0,     0,     0,     0,     0,     0,     0,\n",
       "           0,     0,     0,     0,     0,     0,     0,     0,     0,\n",
       "           0,     0,     0,     0,     0,     0,     0,     0,     0,\n",
       "           0,     0,     0,     0,     0,     0,     0,     0,     0,\n",
       "           0,     0,     0,     0,     0,     0,     0,     0,     0,\n",
       "           0,     0,     0,     0,     0,     0,     0,     0,     0,\n",
       "           0,     0,     0,     0,     0,     0,     0,     0,     0,\n",
       "           0])"
      ]
     },
     "execution_count": 30,
     "metadata": {},
     "output_type": "execute_result"
    }
   ],
   "source": [
    "# Train Data Tokenization\n",
    "from tensorflow.keras.preprocessing.text import Tokenizer\n",
    "from tensorflow.keras.preprocessing.sequence import pad_sequences\n",
    "max_length = 100\n",
    "vocab_size = 43000  \n",
    "\n",
    "tokenizer = Tokenizer(num_words = vocab_size, oov_token=\"<OOV>\",filters='!\"#$%&()*+,-./:;<=>?@[\\\\]^_`{|}~\\t\\n\\'',lower=True)\n",
    "tokenizer.fit_on_texts(X_train.values)\n",
    "\n",
    "word_index = tokenizer.word_index\n",
    "print('Found %s unique tokens.' % len(word_index))\n",
    "\n",
    "# Taining Data padding\n",
    "train_sequences = tokenizer.texts_to_sequences(X_train.values)\n",
    "train_padded = pad_sequences(train_sequences,padding='post', maxlen=max_length)\n",
    "\n",
    "# Validation Data padding\n",
    "validation_sequences = tokenizer.texts_to_sequences(X_valid.values)\n",
    "validation_padded = pad_sequences(validation_sequences,padding='post', maxlen=max_length)\n",
    "\n",
    "# testing data padding\n",
    "test_sequences = tokenizer.texts_to_sequences(X_test.values)\n",
    "test_padded = pad_sequences(test_sequences,padding='post',maxlen=max_length)\n",
    "\n",
    "test_padded[0]"
   ]
  },
  {
   "cell_type": "code",
   "execution_count": 31,
   "id": "IQ4qh55puVc6",
   "metadata": {
    "colab": {
     "base_uri": "https://localhost:8080/"
    },
    "executionInfo": {
     "elapsed": 1495,
     "status": "ok",
     "timestamp": 1654279744912,
     "user": {
      "displayName": "the rexa",
      "userId": "02346515912121062735"
     },
     "user_tz": -360
    },
    "id": "IQ4qh55puVc6",
    "outputId": "9c6f435b-ba05-448c-b1f4-f358ac636163"
   },
   "outputs": [
    {
     "name": "stderr",
     "output_type": "stream",
     "text": [
      "[nltk_data] Downloading package punkt to\n",
      "[nltk_data]     C:\\Users\\Ovi\\AppData\\Roaming\\nltk_data...\n",
      "[nltk_data]   Package punkt is already up-to-date!\n"
     ]
    },
    {
     "data": {
      "text/plain": [
       "True"
      ]
     },
     "execution_count": 31,
     "metadata": {},
     "output_type": "execute_result"
    }
   ],
   "source": [
    "import nltk\n",
    "from tqdm import tqdm\n",
    "nltk.download('punkt')\n"
   ]
  },
  {
   "cell_type": "code",
   "execution_count": 38,
   "id": "hw0v3xBosL6M",
   "metadata": {
    "colab": {
     "base_uri": "https://localhost:8080/"
    },
    "executionInfo": {
     "elapsed": 106284,
     "status": "ok",
     "timestamp": 1654279851172,
     "user": {
      "displayName": "the rexa",
      "userId": "02346515912121062735"
     },
     "user_tz": -360
    },
    "id": "hw0v3xBosL6M",
    "outputId": "76da97bf-1ed8-493e-a69c-0dc60d6f6f15"
   },
   "outputs": [
    {
     "name": "stderr",
     "output_type": "stream",
     "text": [
      "100%|████████████████████████████████████████████████████████████████████████| 163447/163447 [00:18<00:00, 8629.87it/s]\n",
      "IOPub data rate exceeded.\n",
      "The notebook server will temporarily stop sending output\n",
      "to the client in order to avoid crashing it.\n",
      "To change this limit, set the config variable\n",
      "`--NotebookApp.iopub_data_rate_limit`.\n",
      "\n",
      "Current values:\n",
      "NotebookApp.iopub_data_rate_limit=1000000.0 (bytes/sec)\n",
      "NotebookApp.rate_limit_window=3.0 (secs)\n",
      "\n"
     ]
    },
    {
     "name": "stdout",
     "output_type": "stream",
     "text": [
      "Vocabulary size: 29542\n"
     ]
    },
    {
     "name": "stderr",
     "output_type": "stream",
     "text": [
      "29543it [00:01, 17410.66it/s]\n",
      "100%|████████████████████████████████████████████████████████████████████████| 41326/41326 [00:00<00:00, 813033.23it/s]\n"
     ]
    }
   ],
   "source": [
    "sentences =[]\n",
    "for t in  tqdm(range(len(X_train))):\n",
    "    text = nltk.word_tokenize(X_train.values[t])\n",
    "    sentences.append(text)\n",
    "print(sentences)\n",
    "\n",
    "from gensim.models import Word2Vec\n",
    "w2v_model = Word2Vec(sentences, vector_size=200, min_count=2, sg = 0 )\n",
    "\n",
    "words = list(w2v_model.wv.index_to_key)\n",
    "print('Vocabulary size: %d' % len(words))\n",
    "\n",
    "# save model \n",
    "filename = PATH + 'embedding_word2vec.txt'\n",
    "w2v_model.wv.save_word2vec_format(filename, binary=False)\n",
    "\n",
    "embedding_vector = {}\n",
    "f = open(PATH + 'embedding_word2vec.txt', encoding=\"utf8\")\n",
    "for line in tqdm(f):\n",
    "    value = line.split(' ')\n",
    "    word = value[0]\n",
    "    coef = np.array(value[1:],dtype = 'float32')\n",
    "    embedding_vector[word] = coef\n",
    "\n",
    "embedding_matrix = np.zeros((vocab_size,200))\n",
    "for word,i in tqdm(tokenizer.word_index.items()):\n",
    "    embedding_value = embedding_vector.get(word)\n",
    "    if embedding_value is not None:\n",
    "        embedding_matrix[i] = embedding_value "
   ]
  },
  {
   "cell_type": "code",
   "execution_count": 39,
   "id": "ac03e03b",
   "metadata": {
    "colab": {
     "base_uri": "https://localhost:8080/"
    },
    "executionInfo": {
     "elapsed": 34,
     "status": "ok",
     "timestamp": 1654279851173,
     "user": {
      "displayName": "the rexa",
      "userId": "02346515912121062735"
     },
     "user_tz": -360
    },
    "id": "ac03e03b",
    "outputId": "ae8f4e35-9974-43d1-e7b9-9135532df613"
   },
   "outputs": [
    {
     "name": "stdout",
     "output_type": "stream",
     "text": [
      "\n",
      "\t\t\t Encoded Sequences  \n",
      "\n",
      "son halfway fourth week intuniv become concerned begin last week start take high dose two day could hardly get bed cranky sleep nearly hour drive home school vacation unusual call doctor monday morning say stick day see school get morning last two day problem free much agreeable ever less emotional good thing less cranky remembering thing overall behavior well try many different medication far effective \n",
      " [128, 7, 1914, 60, 8, 8, 388, 73, 217, 328, 5, 1938, 1379, 70, 87, 18, 2754]\n",
      "\n",
      "\t\t\t Paded Sequences \n",
      " son halfway fourth week intuniv become concerned begin last week start take high dose two day could hardly get bed cranky sleep nearly hour drive home school vacation unusual call doctor monday morning say stick day see school get morning last two day problem free much agreeable ever less emotional good thing less cranky remembering thing overall behavior well try many different medication far effective \n",
      " [ 128    7 1914   60    8    8  388   73  217  328    5 1938 1379   70\n",
      "   87   18 2754    0    0    0    0    0    0    0    0    0    0    0\n",
      "    0    0    0    0    0    0    0    0    0    0    0    0    0    0\n",
      "    0    0    0    0    0    0    0    0    0    0    0    0    0    0\n",
      "    0    0    0    0    0    0    0    0    0    0    0    0    0    0\n",
      "    0    0    0    0    0    0    0    0    0    0    0    0    0    0\n",
      "    0    0    0    0    0    0    0    0    0    0    0    0    0    0\n",
      "    0    0]\n"
     ]
    }
   ],
   "source": [
    "def padded_infos(original,encoded,padded):\n",
    "  print(\"\\n\\t\\t\\t Encoded Sequences \",\"\\n\")  \n",
    "  print(original,\"\\n\",encoded) \n",
    "  print(\"\\n\\t\\t\\t Paded Sequences \\n\",original,\"\\n\",padded)\n",
    "\n",
    "padded_infos(X_train[1],train_sequences[1],train_padded[1])"
   ]
  },
  {
   "cell_type": "code",
   "execution_count": 40,
   "id": "d77756bf",
   "metadata": {
    "executionInfo": {
     "elapsed": 13,
     "status": "ok",
     "timestamp": 1654279851174,
     "user": {
      "displayName": "the rexa",
      "userId": "02346515912121062735"
     },
     "user_tz": -360
    },
    "id": "d77756bf"
   },
   "outputs": [],
   "source": [
    "#confusion matrix\n",
    "def conf_matrix(y_pred):\n",
    "  cm = confusion_matrix(y_test, y_pred) \n",
    "\n",
    "  cm_df = pd.DataFrame(cm,\n",
    "                       index = ['negative', 'Neutral', 'Positive'], \n",
    "                       columns = ['negative', 'Neutral', 'Positive'])\n",
    "  sns.set(font_scale=2) \n",
    "  plt.figure(figsize=(10,8))\n",
    "  sns.heatmap(cm_df, annot=True,cmap=\"coolwarm\", fmt='g')\n",
    "  plt.ylabel('True label',fontsize=20)\n",
    "  plt.xlabel('Predicted label',fontsize=20)\n",
    "  plt.xticks( rotation=90, weight = 'bold')\n",
    "  plt.yticks( rotation=0, weight = 'bold')\n",
    "  plt.show()\n",
    "  plt.close()"
   ]
  },
  {
   "cell_type": "code",
   "execution_count": 41,
   "id": "b75f1074",
   "metadata": {
    "executionInfo": {
     "elapsed": 13,
     "status": "ok",
     "timestamp": 1654279851174,
     "user": {
      "displayName": "the rexa",
      "userId": "02346515912121062735"
     },
     "user_tz": -360
    },
    "id": "b75f1074"
   },
   "outputs": [],
   "source": [
    "accuracy_threshold = 0.999\n",
    "from tensorflow import keras\n",
    "keras.backend.clear_session()\n",
    "#callback function for early stopping\n",
    "class myCallback(keras.callbacks.Callback):\n",
    "  def on_epoch_end(self, epoch, logs={}):\n",
    "#     if(logs.get('binary_accuracy') > ACCURACY_THRESHOLD):\n",
    "      if(logs.get('accuracy')>accuracy_threshold):\n",
    "        print(\"\\nReached %2.2f%% accuracy so we will stop trianing\" % (accuracy_threshold*100))\n",
    "        self.model.stop_training = True\n",
    "\n",
    "acc_callback = myCallback()\n"
   ]
  },
  {
   "cell_type": "code",
   "execution_count": 42,
   "id": "51d1d523",
   "metadata": {
    "executionInfo": {
     "elapsed": 13,
     "status": "ok",
     "timestamp": 1654279851175,
     "user": {
      "displayName": "the rexa",
      "userId": "02346515912121062735"
     },
     "user_tz": -360
    },
    "id": "51d1d523"
   },
   "outputs": [],
   "source": [
    "embedding_dim=200\n",
    "num_category = 3\n",
    "epochs = 100\n",
    "batch = 128\n",
    "opt=RMSprop(0.001)\n"
   ]
  },
  {
   "cell_type": "code",
   "execution_count": 43,
   "id": "1c6ccdd1",
   "metadata": {
    "executionInfo": {
     "elapsed": 14,
     "status": "ok",
     "timestamp": 1654279851177,
     "user": {
      "displayName": "the rexa",
      "userId": "02346515912121062735"
     },
     "user_tz": -360
    },
    "id": "1c6ccdd1"
   },
   "outputs": [],
   "source": [
    "def Bidirectional_classifier_model(model_name,file_name,GRU_unit, epochs, batch, p_optimizer=opt , \n",
    "                                   p_loss:str = 'sparse_categorical_crossentropy', p_metrics:list = ['accuracy']):\n",
    "    \"\"\"\n",
    "    Build a Bidirectional Models for classification\n",
    "    \"\"\"\n",
    "    filepath = PATH + 'models/'+file_name\n",
    "    reduceLROnPlat = ReduceLROnPlateau(monitor='val_loss',  \n",
    "                                    factor=0.5, patience=2, \n",
    "                                    verbose=1, mode='auto', \n",
    "                                    min_delta=0.001, cooldown=1, min_lr=0.00001)\n",
    "    \n",
    "    checkpoint = ModelCheckpoint(filepath, monitor='val_accuracy', verbose=2, save_best_only=True, \n",
    "                                             save_weights_only=False, mode='auto')\n",
    "    \n",
    "    callback_list = [acc_callback, checkpoint,reduceLROnPlat ]\n",
    "    \n",
    "    print('----------------------------- sequential_classifier_model -----------------------------')\n",
    "    model = tf.keras.Sequential([\n",
    "        tf.keras.layers.Embedding(vocab_size, embedding_dim, input_length=train_padded.shape[1],weights=[embedding_matrix], trainable=False),\n",
    "        tf.keras.layers.SpatialDropout1D(0.2),\n",
    "        tf.keras.layers.Bidirectional(model_name(GRU_unit,return_sequences=True)),\n",
    "        tf.keras.layers.Dense(64, activation='relu'),\n",
    "        tf.keras.layers.Dropout(0.5),\n",
    "        tf.keras.layers.Dense(32, activation='relu'),\n",
    "        tf.keras.layers.Dropout(0.5),\n",
    "        tf.keras.layers.Dense(16, activation='relu'),\n",
    "        tf.keras.layers.Dropout(0.5),\n",
    "        tf.keras.layers.Flatten(),\n",
    "        tf.keras.layers.Dense(num_category, activation='sigmoid')\n",
    "])\n",
    "    model.compile(optimizer=p_optimizer, loss = p_loss, metrics = p_metrics)\n",
    "    model.summary()\n",
    "    model_history = model.fit(train_padded, y_train, \n",
    "                    epochs=epochs,\n",
    "                    batch_size = batch,\n",
    "                    validation_data=(validation_padded, y_valid), \n",
    "                    verbose=1,\n",
    "                    callbacks = callback_list)\n",
    "    return model,model_history"
   ]
  },
  {
   "cell_type": "code",
   "execution_count": 44,
   "id": "2bb834ab",
   "metadata": {
    "colab": {
     "base_uri": "https://localhost:8080/",
     "height": 1000
    },
    "executionInfo": {
     "elapsed": 559478,
     "status": "error",
     "timestamp": 1654280410641,
     "user": {
      "displayName": "the rexa",
      "userId": "02346515912121062735"
     },
     "user_tz": -360
    },
    "id": "2bb834ab",
    "outputId": "7154924e-d992-4339-f0fa-3e7532fc68f0"
   },
   "outputs": [
    {
     "name": "stdout",
     "output_type": "stream",
     "text": [
      "----------------------------- sequential_classifier_model -----------------------------\n",
      "Model: \"sequential\"\n",
      "_________________________________________________________________\n",
      "Layer (type)                 Output Shape              Param #   \n",
      "=================================================================\n",
      "embedding (Embedding)        (None, 100, 200)          8600000   \n",
      "_________________________________________________________________\n",
      "spatial_dropout1d (SpatialDr (None, 100, 200)          0         \n",
      "_________________________________________________________________\n",
      "bidirectional (Bidirectional (None, 100, 512)          703488    \n",
      "_________________________________________________________________\n",
      "dense (Dense)                (None, 100, 64)           32832     \n",
      "_________________________________________________________________\n",
      "dropout (Dropout)            (None, 100, 64)           0         \n",
      "_________________________________________________________________\n",
      "dense_1 (Dense)              (None, 100, 32)           2080      \n",
      "_________________________________________________________________\n",
      "dropout_1 (Dropout)          (None, 100, 32)           0         \n",
      "_________________________________________________________________\n",
      "dense_2 (Dense)              (None, 100, 16)           528       \n",
      "_________________________________________________________________\n",
      "dropout_2 (Dropout)          (None, 100, 16)           0         \n",
      "_________________________________________________________________\n",
      "flatten (Flatten)            (None, 1600)              0         \n",
      "_________________________________________________________________\n",
      "dense_3 (Dense)              (None, 3)                 4803      \n",
      "=================================================================\n",
      "Total params: 9,343,731\n",
      "Trainable params: 743,731\n",
      "Non-trainable params: 8,600,000\n",
      "_________________________________________________________________\n",
      "Epoch 1/100\n",
      " 196/1277 [===>..........................] - ETA: 2:14 - loss: 0.7214 - accuracy: 0.6565"
     ]
    },
    {
     "name": "stderr",
     "output_type": "stream",
     "text": [
      "\n",
      "KeyboardInterrupt\n",
      "\n"
     ]
    }
   ],
   "source": [
    "# Bidirection GRU \n",
    "BiGRU_model, BiGRU_history = Bidirectional_classifier_model(model_name = GRU,\n",
    "                                                            file_name = 'w2v_BiGRU.h5',\n",
    "                                                            GRU_unit = 256,\n",
    "                                                            epochs = epochs,\n",
    "                                                            batch = batch)"
   ]
  },
  {
   "cell_type": "code",
   "execution_count": null,
   "id": "gda4T00HsELS",
   "metadata": {
    "executionInfo": {
     "elapsed": 353,
     "status": "ok",
     "timestamp": 1654280415156,
     "user": {
      "displayName": "the rexa",
      "userId": "02346515912121062735"
     },
     "user_tz": -360
    },
    "id": "gda4T00HsELS"
   },
   "outputs": [],
   "source": [
    "model_path = \"/Ml files/drug review SA/models\""
   ]
  },
  {
   "cell_type": "code",
   "execution_count": null,
   "id": "nNVuV6Oq6Bhv",
   "metadata": {
    "executionInfo": {
     "elapsed": 5,
     "status": "ok",
     "timestamp": 1654280415623,
     "user": {
      "displayName": "the rexa",
      "userId": "02346515912121062735"
     },
     "user_tz": -360
    },
    "id": "nNVuV6Oq6Bhv"
   },
   "outputs": [],
   "source": [
    "from sklearn.metrics import f1_score, precision_score, recall_score, confusion_matrix"
   ]
  },
  {
   "cell_type": "code",
   "execution_count": null,
   "id": "ffb2dd8b",
   "metadata": {
    "colab": {
     "base_uri": "https://localhost:8080/",
     "height": 711
    },
    "executionInfo": {
     "elapsed": 11744,
     "status": "ok",
     "timestamp": 1654280427763,
     "user": {
      "displayName": "the rexa",
      "userId": "02346515912121062735"
     },
     "user_tz": -360
    },
    "id": "ffb2dd8b",
    "outputId": "6c397f8e-b914-4f7e-a053-dbec02c52e47"
   },
   "outputs": [],
   "source": [
    "#make predictions\n",
    "\n",
    "model = load_model(model_path+\"/w2v_BiGRU.h5\")\n",
    "predictions = model.predict(test_padded)\n",
    "y_pred = np.argmax(predictions, axis=1)\n",
    "evaluation = model.evaluate(test_padded,y_test)\n",
    "print('loss {}'.format(evaluation[0]))\n",
    "print('Accuracy {}'.format(evaluation[1]))\n",
    "print('Precision {}'.format(precision_score(y_test, y_pred , average=\"macro\")))\n",
    "print('Recall {}'.format(recall_score(y_test, y_pred , average=\"macro\")))\n",
    "print('f1 score {}'.format(f1_score(y_test, y_pred , average=\"macro\")))\n",
    "\n",
    "conf_matrix(y_pred)"
   ]
  },
  {
   "cell_type": "code",
   "execution_count": null,
   "id": "5f680e58",
   "metadata": {
    "executionInfo": {
     "elapsed": 34,
     "status": "aborted",
     "timestamp": 1654280410598,
     "user": {
      "displayName": "the rexa",
      "userId": "02346515912121062735"
     },
     "user_tz": -360
    },
    "id": "5f680e58"
   },
   "outputs": [],
   "source": [
    "#Report generation\n",
    "\n",
    "def report_generate(pred,classifier):\n",
    "  sns.set_style(\"whitegrid\")\n",
    "  report = pd.DataFrame(classification_report(y_true = y_test, y_pred =pred, output_dict=True)).transpose()\n",
    "  report = report.rename(index={'0': 'negative','1':'Neutral','2':'Positive'})\n",
    "  report[['precision','recall','f1-score']]=report[['precision','recall','f1-score']].apply(lambda x: round(x*100,2))\n",
    "  report=report.drop([\"support\"],axis=1)\n",
    "  columns = ['precision','recall','f1-score']\n",
    "  report.columns = columns\n",
    "  plt = report.plot(kind='bar',figsize=(12,6))\n",
    "  plt.set_title('Multi-class Classification Report for '+str(classifier)+' .', fontsize=20)\n",
    "  plt.tick_params(axis='x',rotation=30,labelsize=25)\n",
    "  plt.tick_params(axis='y',rotation=0,labelsize=25)\n",
    "  plt.legend(['precision', 'recall', 'f1-score'], loc=2,bbox_to_anchor = (1,1), prop={'size': 20})\n",
    "  plt.grid('white')\n",
    "  return plt,report"
   ]
  },
  {
   "cell_type": "code",
   "execution_count": null,
   "id": "13e133cf",
   "metadata": {
    "executionInfo": {
     "elapsed": 34,
     "status": "aborted",
     "timestamp": 1654280410598,
     "user": {
      "displayName": "the rexa",
      "userId": "02346515912121062735"
     },
     "user_tz": -360
    },
    "id": "13e133cf"
   },
   "outputs": [],
   "source": [
    "GRUreport=report_generate(y_pred,\"BiGRU\")\n",
    "GRUreport[1]"
   ]
  },
  {
   "cell_type": "code",
   "execution_count": null,
   "id": "c4239b9d",
   "metadata": {
    "executionInfo": {
     "elapsed": 35,
     "status": "aborted",
     "timestamp": 1654280410599,
     "user": {
      "displayName": "the rexa",
      "userId": "02346515912121062735"
     },
     "user_tz": -360
    },
    "id": "c4239b9d"
   },
   "outputs": [],
   "source": [
    "def model_evaluate(history):\n",
    "  sns.set_style(\"whitegrid\")\n",
    "  H = history.history\n",
    "  fig = plt.figure(figsize = (30, 8))\n",
    "  plt.subplot(121)\n",
    "  plt.xlabel(\"number of epoch\")\n",
    "  plt.ylabel(\"Validation accuracy\")\n",
    "  plt.plot(H['accuracy'], label = 'training', marker='o', color='red', linewidth=3 )\n",
    "  plt.plot(H['val_accuracy'], label = 'validation', marker='o', color='blue', linewidth=3 )\n",
    "  plt.xticks( rotation=0, weight = 'bold', )\n",
    "  plt.yticks( rotation=0, weight = 'bold')\n",
    "  plt.tick_params(rotation=0,axis='y', labelsize=15)\n",
    "  plt.tick_params(rotation=0,axis='x', labelsize=18)\n",
    "  plt.grid('white')\n",
    "  plt.legend()\n",
    "\n",
    "  plt.subplot(122)\n",
    "  plt.xlabel(\"number of epoch\")\n",
    "  plt.ylabel(\"Validation loss\")\n",
    "  plt.plot(H['loss'], label = 'training_loss', marker='o', color='red', linewidth=3 )\n",
    "  plt.plot(H['val_loss'], label = 'validation_loss', marker='o', color='blue', linewidth=3 )\n",
    "  plt.xticks( rotation=0, weight = 'bold', )\n",
    "  plt.yticks( rotation=0, weight = 'bold')\n",
    "  plt.tick_params(rotation=0,axis='y', labelsize=15)\n",
    "  plt.tick_params(rotation=0,axis='x', labelsize=18)\n",
    "  plt.grid('white')\n",
    "  plt.legend()\n",
    "    \n",
    "model_evaluate(BiGRU_history)"
   ]
  },
  {
   "cell_type": "code",
   "execution_count": null,
   "id": "2cd81f20",
   "metadata": {
    "executionInfo": {
     "elapsed": 35,
     "status": "aborted",
     "timestamp": 1654280410600,
     "user": {
      "displayName": "the rexa",
      "userId": "02346515912121062735"
     },
     "user_tz": -360
    },
    "id": "2cd81f20"
   },
   "outputs": [],
   "source": [
    "BiLSTM_model, BiLSTM_history = Bidirectional_classifier_model(model_name = LSTM,\n",
    "                                                            file_name = 'w2v_BiLSTM.h5',\n",
    "                                                            GRU_unit = 256,\n",
    "                                                            epochs = epochs,\n",
    "                                                            batch = batch)"
   ]
  },
  {
   "cell_type": "code",
   "execution_count": null,
   "id": "6cef9b77",
   "metadata": {
    "executionInfo": {
     "elapsed": 36,
     "status": "aborted",
     "timestamp": 1654280410601,
     "user": {
      "displayName": "the rexa",
      "userId": "02346515912121062735"
     },
     "user_tz": -360
    },
    "id": "6cef9b77"
   },
   "outputs": [],
   "source": [
    "#make predictions\n",
    "model = load_model(model_path+\"/w2v_BiLSTM.h5\")\n",
    "predictions = model.predict(test_padded)\n",
    "y_pred = np.argmax(predictions, axis=1)\n",
    "evaluation = model.evaluate(test_padded,y_test)\n",
    "print('loss {}'.format(evaluation[0]))\n",
    "print('Accuracy {}'.format(evaluation[1]))\n",
    "print('Precision {}'.format(precision_score(y_test, y_pred , average=\"macro\")))\n",
    "print('Recall {}'.format(recall_score(y_test, y_pred , average=\"macro\")))\n",
    "print('f1 score {}'.format(f1_score(y_test, y_pred , average=\"macro\")))\n",
    "\n",
    "conf_matrix(y_pred)"
   ]
  },
  {
   "cell_type": "code",
   "execution_count": null,
   "id": "lIav8isf_o6J",
   "metadata": {
    "executionInfo": {
     "elapsed": 36,
     "status": "aborted",
     "timestamp": 1654280410601,
     "user": {
      "displayName": "the rexa",
      "userId": "02346515912121062735"
     },
     "user_tz": -360
    },
    "id": "lIav8isf_o6J"
   },
   "outputs": [],
   "source": [
    "BiLSTMreport=report_generate(y_pred,\"BiLSTM\")\n",
    "BiLSTMreport[1]"
   ]
  },
  {
   "cell_type": "code",
   "execution_count": null,
   "id": "f6fe2448",
   "metadata": {
    "executionInfo": {
     "elapsed": 37,
     "status": "aborted",
     "timestamp": 1654280410602,
     "user": {
      "displayName": "the rexa",
      "userId": "02346515912121062735"
     },
     "user_tz": -360
    },
    "id": "f6fe2448"
   },
   "outputs": [],
   "source": [
    "model_evaluate(BiLSTM_history)"
   ]
  },
  {
   "cell_type": "code",
   "execution_count": null,
   "id": "fe7bbbfb",
   "metadata": {
    "executionInfo": {
     "elapsed": 37,
     "status": "aborted",
     "timestamp": 1654280410602,
     "user": {
      "displayName": "the rexa",
      "userId": "02346515912121062735"
     },
     "user_tz": -360
    },
    "id": "fe7bbbfb"
   },
   "outputs": [],
   "source": [
    "def directional_classifier_model(model_name,file_name,GRU_unit, epochs, batch, p_optimizer= opt , \n",
    "                                   p_loss:str = 'sparse_categorical_crossentropy', p_metrics:list = ['accuracy']):\n",
    "    \"\"\"\n",
    "    Build a directional Models for classification\n",
    "    \"\"\"\n",
    "    filepath = PATH+ 'models/'+file_name\n",
    "    reduceLROnPlat = ReduceLROnPlateau(monitor='val_loss',  \n",
    "                                    factor=0.5, patience=2, \n",
    "                                    verbose=1, mode='auto', \n",
    "                                    min_delta=0.001, cooldown=1, min_lr=0.00001)\n",
    "    \n",
    "    checkpoint = ModelCheckpoint(filepath, monitor='val_accuracy', verbose=2, save_best_only=True, \n",
    "                                             save_weights_only=False, mode='auto')\n",
    "    \n",
    "    callback_list = [acc_callback, checkpoint]\n",
    "    \n",
    "    print('----------------------------- sequential_classifier_model -----------------------------')\n",
    "    model = tf.keras.Sequential([\n",
    "        tf.keras.layers.Embedding(vocab_size, embedding_dim, input_length=train_padded.shape[1],weights=[embedding_matrix], trainable=False),\n",
    "        tf.keras.layers.SpatialDropout1D(0.2),\n",
    "        model_name(GRU_unit,return_sequences=True),\n",
    "#         model_name(128, dropout = 0.2),\n",
    "        tf.keras.layers.Dense(64, activation='relu'),\n",
    "        tf.keras.layers.Dropout(0.5),\n",
    "        tf.keras.layers.Dense(32, activation='relu'),\n",
    "        tf.keras.layers.Dropout(0.5),\n",
    "        tf.keras.layers.Dense(16, activation='relu'),\n",
    "        tf.keras.layers.Dropout(0.5),\n",
    "        tf.keras.layers.Flatten(),\n",
    "        tf.keras.layers.Dense(num_category, activation='sigmoid')\n",
    "])\n",
    "    model.compile(optimizer=p_optimizer, loss = p_loss, metrics = p_metrics)\n",
    "    model.summary()\n",
    "    model_history = model.fit(train_padded, y_train, \n",
    "                    epochs=epochs,\n",
    "                    batch_size = batch,\n",
    "                    validation_data=(validation_padded, y_valid), \n",
    "                    verbose=1,\n",
    "                    callbacks = callback_list)\n",
    "    return model,model_history"
   ]
  },
  {
   "cell_type": "code",
   "execution_count": null,
   "id": "fd8ac47f",
   "metadata": {
    "executionInfo": {
     "elapsed": 38,
     "status": "aborted",
     "timestamp": 1654280410603,
     "user": {
      "displayName": "the rexa",
      "userId": "02346515912121062735"
     },
     "user_tz": -360
    },
    "id": "fd8ac47f"
   },
   "outputs": [],
   "source": [
    "LSTM_model, LSTM_history =directional_classifier_model(model_name = LSTM,\n",
    "                                                            file_name = 'w2v_LSTM.h5',\n",
    "                                                            GRU_unit = 256,\n",
    "                                                            epochs = epochs,\n",
    "                                                            batch = batch)\n"
   ]
  },
  {
   "cell_type": "code",
   "execution_count": null,
   "id": "CJJw0dMGm6Ef",
   "metadata": {
    "executionInfo": {
     "elapsed": 39,
     "status": "aborted",
     "timestamp": 1654280410604,
     "user": {
      "displayName": "the rexa",
      "userId": "02346515912121062735"
     },
     "user_tz": -360
    },
    "id": "CJJw0dMGm6Ef"
   },
   "outputs": [],
   "source": [
    "model_evaluate(LSTM_history)"
   ]
  },
  {
   "cell_type": "code",
   "execution_count": null,
   "id": "7479093b",
   "metadata": {
    "executionInfo": {
     "elapsed": 40,
     "status": "aborted",
     "timestamp": 1654280410606,
     "user": {
      "displayName": "the rexa",
      "userId": "02346515912121062735"
     },
     "user_tz": -360
    },
    "id": "7479093b"
   },
   "outputs": [],
   "source": [
    "#make predictions\n",
    "model = load_model(model_path+\"/w2v_LSTM.h5\")\n",
    "predictions = model.predict(test_padded)\n",
    "y_pred = np.argmax(predictions, axis=1)\n",
    "evaluation = model.evaluate(test_padded,y_test)\n",
    "print('loss {}'.format(evaluation[0]))\n",
    "print('Accuracy {}'.format(evaluation[1]))\n",
    "print('Precision {}'.format(precision_score(y_test, y_pred , average=\"macro\")))\n",
    "print('Recall {}'.format(recall_score(y_test, y_pred , average=\"macro\")))\n",
    "print('f1 score {}'.format(f1_score(y_test, y_pred , average=\"macro\")))\n",
    "\n",
    "conf_matrix(y_pred)"
   ]
  },
  {
   "cell_type": "code",
   "execution_count": null,
   "id": "nIntcDMSAJ_8",
   "metadata": {
    "executionInfo": {
     "elapsed": 42,
     "status": "aborted",
     "timestamp": 1654280410608,
     "user": {
      "displayName": "the rexa",
      "userId": "02346515912121062735"
     },
     "user_tz": -360
    },
    "id": "nIntcDMSAJ_8"
   },
   "outputs": [],
   "source": [
    "LSTMreport=report_generate(y_pred,\"LSTM\")\n",
    "LSTMreport[1]"
   ]
  },
  {
   "cell_type": "code",
   "execution_count": null,
   "id": "cf9cf0b5",
   "metadata": {
    "executionInfo": {
     "elapsed": 42,
     "status": "aborted",
     "timestamp": 1654280410608,
     "user": {
      "displayName": "the rexa",
      "userId": "02346515912121062735"
     },
     "user_tz": -360
    },
    "id": "cf9cf0b5"
   },
   "outputs": [],
   "source": [
    "GRU_model, GRU_history =directional_classifier_model(model_name = GRU,\n",
    "                                                            file_name = 'w2v_GRU.h5',\n",
    "                                                            GRU_unit = 256,\n",
    "                                                            epochs = epochs,\n",
    "                                                            batch = batch)\n"
   ]
  },
  {
   "cell_type": "code",
   "execution_count": null,
   "id": "4qEVUsiTm8yA",
   "metadata": {
    "executionInfo": {
     "elapsed": 43,
     "status": "aborted",
     "timestamp": 1654280410609,
     "user": {
      "displayName": "the rexa",
      "userId": "02346515912121062735"
     },
     "user_tz": -360
    },
    "id": "4qEVUsiTm8yA"
   },
   "outputs": [],
   "source": [
    "model_evaluate(GRU_history)"
   ]
  },
  {
   "cell_type": "code",
   "execution_count": null,
   "id": "3a9c80da",
   "metadata": {
    "executionInfo": {
     "elapsed": 45,
     "status": "aborted",
     "timestamp": 1654280410611,
     "user": {
      "displayName": "the rexa",
      "userId": "02346515912121062735"
     },
     "user_tz": -360
    },
    "id": "3a9c80da"
   },
   "outputs": [],
   "source": [
    "#make predictions\n",
    "model = load_model(model_path+\"/w2v_GRU.h5\")\n",
    "predictions = model.predict(test_padded)\n",
    "y_pred = np.argmax(predictions, axis=1)\n",
    "evaluation = model.evaluate(test_padded,y_test)\n",
    "print('loss {}'.format(evaluation[0]))\n",
    "print('Accuracy {}'.format(evaluation[1]))\n",
    "print('Precision {}'.format(precision_score(y_test, y_pred , average=\"macro\")))\n",
    "print('Recall {}'.format(recall_score(y_test, y_pred , average=\"macro\")))\n",
    "print('f1 score {}'.format(f1_score(y_test, y_pred , average=\"macro\")))\n",
    "\n",
    "conf_matrix(y_pred)"
   ]
  },
  {
   "cell_type": "code",
   "execution_count": null,
   "id": "cJ7rSjXqAR7a",
   "metadata": {
    "executionInfo": {
     "elapsed": 46,
     "status": "aborted",
     "timestamp": 1654280410613,
     "user": {
      "displayName": "the rexa",
      "userId": "02346515912121062735"
     },
     "user_tz": -360
    },
    "id": "cJ7rSjXqAR7a"
   },
   "outputs": [],
   "source": [
    "GRUreport=report_generate(y_pred,\"GRU\")\n",
    "GRUreport[1]"
   ]
  },
  {
   "cell_type": "code",
   "execution_count": null,
   "id": "243a4f23",
   "metadata": {},
   "outputs": [],
   "source": [
    "print(BiGRU_history.history['val_accuracy'])\n",
    "print(BiGRU_history.history['val_loss'])\n",
    "\n",
    "print(LSTM_history.history['val_accuracy'])\n",
    "print(LSTM_history.history['val_loss'])\n",
    "\n",
    "print(BiLSTM_history.history['val_accuracy'])\n",
    "print(BiLSTM_history.history['val_loss'])\n",
    "\n",
    "print(GRU_history.history['val_accuracy'])\n",
    "print(GRU_history.history['val_loss'])"
   ]
  },
  {
   "cell_type": "code",
   "execution_count": null,
   "id": "eb5f6f95",
   "metadata": {},
   "outputs": [],
   "source": [
    "# Plot all model results\n",
    "def model_all_evaluate(history1,history2,history3,history4):\n",
    "  sns.set_style(\"whitegrid\")\n",
    "  H1 = history1.history\n",
    "  H2 = history2.history\n",
    "  H3 = history3.history\n",
    "  H4 = history4.history\n",
    "  fig = plt.figure(figsize = (20, 8))\n",
    "  plt.subplot(121)\n",
    "  plt.xlabel(\"number of epoch\")\n",
    "  plt.ylabel(\"Validation accuracy\")\n",
    "  plt.plot(H1['val_accuracy'], label = 'BiGRU', marker='o', color='red', linewidth=3)\n",
    "  plt.plot(H2['val_accuracy'], label = 'BiLSTM', marker='o', color='blue', linewidth=3)\n",
    "  plt.plot(H3['val_accuracy'], label = 'LSTM', marker='o', color='yellow', linewidth=3)\n",
    "  plt.plot(H4['val_accuracy'], label = 'GRU', marker='o', color='green', linewidth=3)\n",
    "  plt.xticks( rotation=0, weight = 'bold')\n",
    "  plt.yticks( rotation=0, weight = 'bold')\n",
    "  plt.tick_params(rotation=0,axis='y', labelsize=15)\n",
    "  plt.tick_params(rotation=0,axis='x', labelsize=18)\n",
    "  plt.grid('white')\n",
    "  plt.legend(prop={'size': 20})\n",
    "\n",
    "  plt.subplot(122)\n",
    "  plt.xlabel(\"number of epoch\")\n",
    "  plt.ylabel(\"Validation loss\")\n",
    "  plt.plot(H1['val_loss'], label = 'BiGRU', marker='o', color='red', linewidth=3)\n",
    "  plt.plot(H2['val_loss'], label = 'BiLSTM', marker='o', color='blue', linewidth=3)\n",
    "  plt.plot(H3['val_loss'], label = 'LSTM', marker='o', color='yellow', linewidth=3)\n",
    "  plt.plot(H4['val_loss'], label = 'GRU', marker='o', color='green', linewidth=3)\n",
    "  plt.xticks( rotation=0, weight = 'bold')\n",
    "  plt.yticks( rotation=0, weight = 'bold')\n",
    "  plt.tick_params(rotation=0,axis='y', labelsize=15)\n",
    "  plt.tick_params(rotation=0,axis='x', labelsize=18)\n",
    "  plt.grid('white')\n",
    "  plt.legend(prop={'size': 20})\n"
   ]
  },
  {
   "cell_type": "code",
   "execution_count": null,
   "id": "7494e76b",
   "metadata": {},
   "outputs": [],
   "source": [
    "model_all_evaluate(BiGRU_history, BiLSTM_history,LSTM_history, GRU_history )"
   ]
  },
  {
   "cell_type": "code",
   "execution_count": null,
   "id": "189f526f",
   "metadata": {},
   "outputs": [],
   "source": [
    "Bigru = load_model(model_path+\"/BiGRU.h5\")\n",
    "Bilstm = load_model(model_path+\"/BiLSTM.h5\")\n",
    "lstm = load_model(model_path+\"/LSTM.h5\")\n",
    "gru = load_model(model_path+\"/GRU.h5\")\n",
    "MLA = {\n",
    "     'Bidirectional GRU' : Bigru,\n",
    "     'Bidirectional LSTM' : Bilstm,\n",
    "     'LSTM' : lstm,\n",
    "     'GRU' : gru, \n",
    "}\n",
    "\n",
    "columns = []\n",
    "compare = pd.DataFrame(columns = columns)\n",
    "# n_classes=4\n",
    "row_index = 0\n",
    "for name,alg in MLA.items():\n",
    "    MLA_name = name\n",
    "    evaluation = alg.evaluate(test_padded,y_test)\n",
    "    y_pred = alg.predict(test_padded)\n",
    "    y_pred = np.argmax(y_pred, axis=1)\n",
    "    macro_recall = recall_score(y_test, y_pred , average=\"macro\")\n",
    "    micro_precision = precision_score(y_test, y_pred , average=\"micro\")\n",
    "    f1_score =  2 * (micro_precision * macro_recall) / (micro_precision + macro_recall)\n",
    "    compare.loc[row_index,'Name'] = MLA_name\n",
    "    compare.loc[row_index, 'Accuracy'] = evaluation[1]\n",
    "    compare.loc[row_index, 'loss'] = evaluation[0]\n",
    "    compare.loc[row_index, 'Precision'] = micro_precision\n",
    "    compare.loc[row_index, 'Recall'] = macro_recall\n",
    "    compare.loc[row_index, 'F1 Score'] = f1_score\n",
    "    row_index+=1\n",
    "    \n",
    "compare.sort_values(by = ['Accuracy'], ascending = False, inplace = True)    \n",
    "compare"
   ]
  },
  {
   "cell_type": "markdown",
   "id": "nBs8foH0jT8T",
   "metadata": {
    "id": "nBs8foH0jT8T"
   },
   "source": [
    "**DIrectional Hybrid Model**"
   ]
  },
  {
   "cell_type": "markdown",
   "id": "nFcC0jYtjW5b",
   "metadata": {
    "id": "nFcC0jYtjW5b"
   },
   "source": [
    "**CNN-LSTM**"
   ]
  },
  {
   "cell_type": "code",
   "execution_count": null,
   "id": "9PgLCn0LjiY9",
   "metadata": {
    "executionInfo": {
     "elapsed": 47,
     "status": "aborted",
     "timestamp": 1654280410614,
     "user": {
      "displayName": "the rexa",
      "userId": "02346515912121062735"
     },
     "user_tz": -360
    },
    "id": "9PgLCn0LjiY9"
   },
   "outputs": [],
   "source": [
    "def directional_hybrid_classifier_model(model_name,file_name,GRU_unit, epochs, batch, p_optimizer = opt , \n",
    "                                   p_loss:str = 'sparse_categorical_crossentropy', p_metrics:list = ['accuracy']):\n",
    "    \"\"\"\n",
    "    Build a directional Models for classification\n",
    "    \"\"\"\n",
    "    filepath = PATH + 'models/'+file_name\n",
    "    reduceLROnPlat = ReduceLROnPlateau(monitor='val_loss',  \n",
    "                                    factor=0.5, patience=2, \n",
    "                                    verbose=1, mode='auto', \n",
    "                                    min_delta=0.001, cooldown=1, min_lr=0.00001)\n",
    "    \n",
    "    checkpoint = ModelCheckpoint(filepath, monitor='val_accuracy', verbose=2, save_best_only=True, \n",
    "                                             save_weights_only=False, mode='auto')\n",
    "    \n",
    "    callback_list = [acc_callback, checkpoint]\n",
    "    \n",
    "    print('----------------------------- Hybrid_sequential_classifier_model -----------------------------')\n",
    "    model = tf.keras.Sequential([\n",
    "        tf.keras.layers.Embedding(vocab_size, embedding_dim, input_length=train_padded.shape[1],weights=[embedding_matrix], trainable=False),\n",
    "        tf.keras.layers.SpatialDropout1D(0.7),\n",
    "        tf.keras.layers.Conv1D(filters=32, kernel_size=3, padding='same', activation='relu'),\n",
    "        tf.keras.layers.MaxPooling1D(pool_size=2),\n",
    "        model_name(GRU_unit,return_sequences=True),\n",
    "        # tf.keras.layers.Dense(128, activation='relu'),\n",
    "        # tf.keras.layers.Dropout(0.5),\n",
    "        tf.keras.layers.Dense(64, activation='relu'),\n",
    "        tf.keras.layers.Dropout(0.5),\n",
    "        tf.keras.layers.Dense(32, activation='relu'),\n",
    "        tf.keras.layers.Dropout(0.5),\n",
    "        tf.keras.layers.Dense(16, activation='relu'),\n",
    "        tf.keras.layers.Dropout(0.5),\n",
    "        tf.keras.layers.Flatten(),\n",
    "        tf.keras.layers.Dense(num_category, activation='sigmoid')\n",
    "])\n",
    "    model.compile(optimizer=p_optimizer, loss = p_loss, metrics = p_metrics)\n",
    "    model.summary()\n",
    "    model_history = model.fit(train_padded, y_train, \n",
    "                    epochs=epochs,\n",
    "                    batch_size = batch,\n",
    "                    validation_data=(validation_padded, y_valid), \n",
    "                    verbose=1,\n",
    "                    callbacks = callback_list)\n",
    "    return model,model_history"
   ]
  },
  {
   "cell_type": "code",
   "execution_count": null,
   "id": "nsX_ndlLkwiS",
   "metadata": {
    "executionInfo": {
     "elapsed": 47,
     "status": "aborted",
     "timestamp": 1654280410614,
     "user": {
      "displayName": "the rexa",
      "userId": "02346515912121062735"
     },
     "user_tz": -360
    },
    "id": "nsX_ndlLkwiS"
   },
   "outputs": [],
   "source": [
    "CLSTM_model, CLSTM_history =directional_hybrid_classifier_model(model_name = LSTM,\n",
    "                                                            file_name = 'w2v_CLSTM.h5',\n",
    "                                                            GRU_unit =256,\n",
    "                                                            epochs = epochs,\n",
    "                                                            batch = batch)\n",
    "model_evaluate(CLSTM_history)"
   ]
  },
  {
   "cell_type": "code",
   "execution_count": null,
   "id": "91nNMwyMl3QM",
   "metadata": {
    "executionInfo": {
     "elapsed": 49,
     "status": "aborted",
     "timestamp": 1654280410616,
     "user": {
      "displayName": "the rexa",
      "userId": "02346515912121062735"
     },
     "user_tz": -360
    },
    "id": "91nNMwyMl3QM"
   },
   "outputs": [],
   "source": [
    "#make predictions\n",
    "model = load_model(model_path+\"/w2v_CLSTM.h5\")\n",
    "predictions = model.predict(test_padded)\n",
    "y_pred = np.argmax(predictions, axis=1)\n",
    "evaluation = model.evaluate(test_padded,y_test)\n",
    "print('loss {}'.format(evaluation[0]))\n",
    "print('Accuracy {}'.format(evaluation[1]))\n",
    "print('Precision {}'.format(precision_score(y_test, y_pred , average=\"macro\")))\n",
    "print('Recall {}'.format(recall_score(y_test, y_pred , average=\"macro\")))\n",
    "print('f1 score {}'.format(f1_score(y_test, y_pred , average=\"macro\")))\n",
    "\n",
    "conf_matrix(y_pred)"
   ]
  },
  {
   "cell_type": "markdown",
   "id": "dViTaRzenSSA",
   "metadata": {
    "id": "dViTaRzenSSA"
   },
   "source": [
    "**CNN-GRU**"
   ]
  },
  {
   "cell_type": "code",
   "execution_count": null,
   "id": "ZgfRpahSlnYQ",
   "metadata": {
    "executionInfo": {
     "elapsed": 49,
     "status": "aborted",
     "timestamp": 1654280410616,
     "user": {
      "displayName": "the rexa",
      "userId": "02346515912121062735"
     },
     "user_tz": -360
    },
    "id": "ZgfRpahSlnYQ"
   },
   "outputs": [],
   "source": [
    "CGRU_model, CGRU_history =directional_hybrid_classifier_model(model_name = GRU,\n",
    "                                                            file_name = 'w2v_CGRU.h5',\n",
    "                                                            GRU_unit =256,\n",
    "                                                            epochs = epochs,\n",
    "                                                            batch = batch)\n"
   ]
  },
  {
   "cell_type": "code",
   "execution_count": null,
   "id": "8HB53lRbnFI_",
   "metadata": {
    "executionInfo": {
     "elapsed": 49,
     "status": "aborted",
     "timestamp": 1654280410617,
     "user": {
      "displayName": "the rexa",
      "userId": "02346515912121062735"
     },
     "user_tz": -360
    },
    "id": "8HB53lRbnFI_"
   },
   "outputs": [],
   "source": [
    "model_evaluate(CGRU_history)"
   ]
  },
  {
   "cell_type": "code",
   "execution_count": null,
   "id": "BDMWXDqamEeY",
   "metadata": {
    "executionInfo": {
     "elapsed": 49,
     "status": "aborted",
     "timestamp": 1654280410617,
     "user": {
      "displayName": "the rexa",
      "userId": "02346515912121062735"
     },
     "user_tz": -360
    },
    "id": "BDMWXDqamEeY"
   },
   "outputs": [],
   "source": [
    "#make predictions\n",
    "\n",
    "model = load_model(model_path+\"/w2v_CGRU.h5\")\n",
    "predictions = model.predict(test_padded)\n",
    "y_pred = np.argmax(predictions, axis=1)\n",
    "evaluation = model.evaluate(test_padded,y_test)\n",
    "print('loss {}'.format(evaluation[0]))\n",
    "print('Accuracy {}'.format(evaluation[1]))\n",
    "print('Precision {}'.format(precision_score(y_test, y_pred , average=\"macro\")))\n",
    "print('Recall {}'.format(recall_score(y_test, y_pred , average=\"macro\")))\n",
    "print('f1 score {}'.format(f1_score(y_test, y_pred , average=\"macro\")))\n",
    "\n",
    "conf_matrix(y_pred)"
   ]
  },
  {
   "cell_type": "markdown",
   "id": "AXcFASPonWYO",
   "metadata": {
    "id": "AXcFASPonWYO"
   },
   "source": [
    "**Bi-directional Hybrid Model**"
   ]
  },
  {
   "cell_type": "code",
   "execution_count": null,
   "id": "UY06If7qnajY",
   "metadata": {
    "executionInfo": {
     "elapsed": 49,
     "status": "aborted",
     "timestamp": 1654280410618,
     "user": {
      "displayName": "the rexa",
      "userId": "02346515912121062735"
     },
     "user_tz": -360
    },
    "id": "UY06If7qnajY"
   },
   "outputs": [],
   "source": [
    "def bidirectional_hybrid_classifier_model(model_name,file_name,GRU_unit, epochs, batch, p_optimizer = opt , \n",
    "                                   p_loss:str = 'sparse_categorical_crossentropy', p_metrics:list = ['accuracy']):\n",
    "    \"\"\"\n",
    "    Build a directional Models for classification\n",
    "    \"\"\"\n",
    "    filepath =PATH + 'models/'+file_name\n",
    "    reduceLROnPlat = ReduceLROnPlateau(monitor='val_loss',  \n",
    "                                    factor=0.5, patience=2, \n",
    "                                    verbose=1, mode='auto', \n",
    "                                    min_delta=0.001, cooldown=1, min_lr=0.00001)\n",
    "    \n",
    "    checkpoint = ModelCheckpoint(filepath, monitor='val_accuracy', verbose=2, save_best_only=True, \n",
    "                                             save_weights_only=False, mode='auto')\n",
    "    \n",
    "    callback_list = [acc_callback, checkpoint]\n",
    "    \n",
    "    print('----------------------------- Biderectional Hybrid_sequential_classifier_model -----------------------------')\n",
    "    model = tf.keras.Sequential([\n",
    "        tf.keras.layers.Embedding(73971, embedding_dim, input_length=train_padded.shape[1],weights=[embedding_matrix], trainable=False),\n",
    "        tf.keras.layers.SpatialDropout1D(0.7),\n",
    "        tf.keras.layers.Conv1D(filters=32, kernel_size=3, padding='same', activation='relu'),\n",
    "        \n",
    "        tf.keras.layers.MaxPooling1D(pool_size=2),\n",
    "        tf.keras.layers.Bidirectional(model_name(GRU_unit,return_sequences=True)),\n",
    "        # tf.keras.layers.Dense(128, activation='relu'),\n",
    "        # tf.keras.layers.Dropout(0.5),\n",
    "        tf.keras.layers.Dense(64, activation='relu'),\n",
    "        tf.keras.layers.Dropout(0.5),\n",
    "        tf.keras.layers.Dense(32, activation='relu'),\n",
    "        tf.keras.layers.Dropout(0.5),\n",
    "        tf.keras.layers.Dense(16, activation='relu'),\n",
    "        tf.keras.layers.Dropout(0.5),\n",
    "        tf.keras.layers.Flatten(),\n",
    "        tf.keras.layers.Dense(num_category, activation='sigmoid')\n",
    "])\n",
    "    model.compile(optimizer=p_optimizer, loss = p_loss, metrics = p_metrics)\n",
    "    model.summary()\n",
    "    model_history = model.fit(train_padded, y_train, \n",
    "                    epochs=epochs,\n",
    "                    batch_size = batch,\n",
    "                    validation_data=(validation_padded, y_valid), \n",
    "                    verbose=1,\n",
    "                    callbacks = callback_list)\n",
    "    return model,model_history"
   ]
  },
  {
   "cell_type": "markdown",
   "id": "ChCi0yc3oGb8",
   "metadata": {
    "id": "ChCi0yc3oGb8"
   },
   "source": [
    "**CNN-BiLSTM**"
   ]
  },
  {
   "cell_type": "code",
   "execution_count": null,
   "id": "2rh8NBSQoDah",
   "metadata": {
    "executionInfo": {
     "elapsed": 50,
     "status": "aborted",
     "timestamp": 1654280410619,
     "user": {
      "displayName": "the rexa",
      "userId": "02346515912121062735"
     },
     "user_tz": -360
    },
    "id": "2rh8NBSQoDah"
   },
   "outputs": [],
   "source": [
    "CBILSTM_model, CBILSTM_history =bidirectional_hybrid_classifier_model(model_name = LSTM,\n",
    "                                                            file_name = 'w2v_CBILSTM.h5',\n",
    "                                                            GRU_unit =256,\n",
    "                                                            epochs = epochs,\n",
    "                                                            batch = batch)\n",
    "model_evaluate(CBILSTM_history)"
   ]
  },
  {
   "cell_type": "code",
   "execution_count": null,
   "id": "3QyEYlPRoDah",
   "metadata": {
    "executionInfo": {
     "elapsed": 50,
     "status": "aborted",
     "timestamp": 1654280410619,
     "user": {
      "displayName": "the rexa",
      "userId": "02346515912121062735"
     },
     "user_tz": -360
    },
    "id": "3QyEYlPRoDah"
   },
   "outputs": [],
   "source": [
    "#make predictions\n",
    "\n",
    "\n",
    "model = load_model(model_path+\"/w2v_CBILSTM.h5\")\n",
    "predictions = model.predict(test_padded)\n",
    "y_pred = np.argmax(predictions, axis=1)\n",
    "evaluation = model.evaluate(test_padded,y_test)\n",
    "print('loss {}'.format(evaluation[0]))\n",
    "print('Accuracy {}'.format(evaluation[1]))\n",
    "print('Precision {}'.format(precision_score(y_test, y_pred , average=\"macro\")))\n",
    "print('Recall {}'.format(recall_score(y_test, y_pred , average=\"macro\")))\n",
    "print('f1 score {}'.format(f1_score(y_test, y_pred , average=\"macro\")))\n",
    "\n",
    "conf_matrix(y_pred)"
   ]
  },
  {
   "cell_type": "markdown",
   "id": "DiY1t_QtoDah",
   "metadata": {
    "id": "DiY1t_QtoDah"
   },
   "source": [
    "**CNN-BiGRU**"
   ]
  },
  {
   "cell_type": "code",
   "execution_count": null,
   "id": "5A72HnH4oDah",
   "metadata": {
    "executionInfo": {
     "elapsed": 51,
     "status": "aborted",
     "timestamp": 1654280410620,
     "user": {
      "displayName": "the rexa",
      "userId": "02346515912121062735"
     },
     "user_tz": -360
    },
    "id": "5A72HnH4oDah"
   },
   "outputs": [],
   "source": [
    "CBIGRU_model, CBIGRU_history =bidirectional_hybrid_classifier_model(model_name = GRU,\n",
    "                                                            file_name = 'w2v_CBIGRU.h5',\n",
    "                                                            GRU_unit =256,\n",
    "                                                            epochs = epochs,\n",
    "                                                            batch = batch)\n"
   ]
  },
  {
   "cell_type": "code",
   "execution_count": null,
   "id": "q01L9LNQoDai",
   "metadata": {
    "executionInfo": {
     "elapsed": 51,
     "status": "aborted",
     "timestamp": 1654280410621,
     "user": {
      "displayName": "the rexa",
      "userId": "02346515912121062735"
     },
     "user_tz": -360
    },
    "id": "q01L9LNQoDai"
   },
   "outputs": [],
   "source": [
    "model_evaluate(CBIGRU_history)"
   ]
  },
  {
   "cell_type": "code",
   "execution_count": null,
   "id": "It8tNFWZoDai",
   "metadata": {
    "executionInfo": {
     "elapsed": 52,
     "status": "aborted",
     "timestamp": 1654280410622,
     "user": {
      "displayName": "the rexa",
      "userId": "02346515912121062735"
     },
     "user_tz": -360
    },
    "id": "It8tNFWZoDai"
   },
   "outputs": [],
   "source": [
    "#make predictions\n",
    "\n",
    "\n",
    "model = load_model(model_path+\"/w2v_CBIGRU.h5\")\n",
    "predictions = model.predict(test_padded)\n",
    "y_pred = np.argmax(predictions, axis=1)\n",
    "evaluation = model.evaluate(test_padded,y_test)\n",
    "print('loss {}'.format(evaluation[0]))\n",
    "print('Accuracy {}'.format(evaluation[1]))\n",
    "print('Precision {}'.format(precision_score(y_test, y_pred , average=\"macro\")))\n",
    "print('Recall {}'.format(recall_score(y_test, y_pred , average=\"macro\")))\n",
    "print('f1 score {}'.format(f1_score(y_test, y_pred , average=\"macro\")))\n",
    "\n",
    "conf_matrix(y_pred)"
   ]
  },
  {
   "cell_type": "code",
   "execution_count": null,
   "id": "lP_rD8ALyWrN",
   "metadata": {
    "executionInfo": {
     "elapsed": 54,
     "status": "aborted",
     "timestamp": 1654280410624,
     "user": {
      "displayName": "the rexa",
      "userId": "02346515912121062735"
     },
     "user_tz": -360
    },
    "id": "lP_rD8ALyWrN"
   },
   "outputs": [],
   "source": [
    "# Plot all model results\n",
    "def model_all_evaluate(history1,history2,history3,history4):\n",
    "  sns.set_style(\"whitegrid\")\n",
    "  H1 = history1.history\n",
    "  H2 = history2.history\n",
    "  H3 = history3.history\n",
    "  H4 = history4.history\n",
    "  fig = plt.figure(figsize = (20, 8))\n",
    "  plt.subplot(121)\n",
    "  plt.xlabel(\"number of epoch\")\n",
    "  plt.ylabel(\"Validation accuracy\")\n",
    "  plt.plot(H1['val_accuracy'], label = 'BiGRU', marker='o', color='red', linewidth=3)\n",
    "  plt.plot(H2['val_accuracy'], label = 'BiLSTM', marker='o', color='blue', linewidth=3)\n",
    "  plt.plot(H3['val_accuracy'], label = 'LSTM', marker='o', color='yellow', linewidth=3)\n",
    "  plt.plot(H4['val_accuracy'], label = 'GRU', marker='o', color='green', linewidth=3)\n",
    "  plt.xticks( rotation=0, weight = 'bold')\n",
    "  plt.yticks( rotation=0, weight = 'bold')\n",
    "  plt.tick_params(rotation=0,axis='y', labelsize=15)\n",
    "  plt.tick_params(rotation=0,axis='x', labelsize=18)\n",
    "  plt.grid('white')\n",
    "  plt.legend(prop={'size': 20})\n",
    "\n",
    "  plt.subplot(122)\n",
    "  plt.xlabel(\"number of epoch\")\n",
    "  plt.ylabel(\"Validation loss\")\n",
    "  plt.plot(H1['val_loss'], label = 'BiGRU', marker='o', color='red', linewidth=3)\n",
    "  plt.plot(H2['val_loss'], label = 'BiLSTM', marker='o', color='blue', linewidth=3)\n",
    "  plt.plot(H3['val_loss'], label = 'LSTM', marker='o', color='yellow', linewidth=3)\n",
    "  plt.plot(H4['val_loss'], label = 'GRU', marker='o', color='green', linewidth=3)\n",
    "  plt.xticks( rotation=0, weight = 'bold')\n",
    "  plt.yticks( rotation=0, weight = 'bold')\n",
    "  plt.tick_params(rotation=0,axis='y', labelsize=15)\n",
    "  plt.tick_params(rotation=0,axis='x', labelsize=18)\n",
    "  plt.grid('white')\n",
    "  plt.legend(prop={'size': 20})\n"
   ]
  },
  {
   "cell_type": "code",
   "execution_count": null,
   "id": "S9sgdCC0q060",
   "metadata": {
    "executionInfo": {
     "elapsed": 59,
     "status": "aborted",
     "timestamp": 1654280410629,
     "user": {
      "displayName": "the rexa",
      "userId": "02346515912121062735"
     },
     "user_tz": -360
    },
    "id": "S9sgdCC0q060"
   },
   "outputs": [],
   "source": [
    "model_all_evaluate(BiGRU_history, BiLSTM_history,LSTM_history, GRU_history )"
   ]
  },
  {
   "cell_type": "code",
   "execution_count": null,
   "id": "9EDQwRnBybq2",
   "metadata": {
    "executionInfo": {
     "elapsed": 61,
     "status": "aborted",
     "timestamp": 1654280410632,
     "user": {
      "displayName": "the rexa",
      "userId": "02346515912121062735"
     },
     "user_tz": -360
    },
    "id": "9EDQwRnBybq2"
   },
   "outputs": [],
   "source": [
    "# Plot all model results\n",
    "def model_all_evaluate(history1,history2,history3,history4):\n",
    "  sns.set_style(\"whitegrid\")\n",
    "  H1 = history1.history\n",
    "  H2 = history2.history\n",
    "  H3 = history3.history\n",
    "  H4 = history4.history\n",
    "  fig = plt.figure(figsize = (20, 8))\n",
    "  plt.subplot(121)\n",
    "  plt.xlabel(\"number of epoch\")\n",
    "  plt.ylabel(\"Validation accuracy\")\n",
    "  plt.plot(H1['val_accuracy'], label = 'CNN-BiGRU', marker='o', color='red', linewidth=3)\n",
    "  plt.plot(H2['val_accuracy'], label = 'CNN-BiLSTM', marker='o', color='blue', linewidth=3)\n",
    "  plt.plot(H3['val_accuracy'], label = 'CNN-LSTM', marker='o', color='yellow', linewidth=3)\n",
    "  plt.plot(H4['val_accuracy'], label = 'CNN-GRU', marker='o', color='green', linewidth=3)\n",
    "  plt.xticks( rotation=0, weight = 'bold')\n",
    "  plt.yticks( rotation=0, weight = 'bold')\n",
    "  plt.tick_params(rotation=0,axis='y', labelsize=15)\n",
    "  plt.tick_params(rotation=0,axis='x', labelsize=18)\n",
    "  plt.grid('white')\n",
    "  plt.legend(prop={'size': 20})\n",
    "\n",
    "  plt.subplot(122)\n",
    "  plt.xlabel(\"number of epoch\")\n",
    "  plt.ylabel(\"Validation loss\")\n",
    "  plt.plot(H1['val_loss'], label = 'CNN-BiGRU', marker='o', color='red', linewidth=3)\n",
    "  plt.plot(H2['val_loss'], label = 'CNN-BiLSTM', marker='o', color='blue', linewidth=3)\n",
    "  plt.plot(H3['val_loss'], label = 'CNN-LSTM', marker='o', color='yellow', linewidth=3)\n",
    "  plt.plot(H4['val_loss'], label = 'CNN-GRU', marker='o', color='green', linewidth=3)\n",
    "  plt.xticks( rotation=0, weight = 'bold')\n",
    "  plt.yticks( rotation=0, weight = 'bold')\n",
    "  plt.tick_params(rotation=0,axis='y', labelsize=15)\n",
    "  plt.tick_params(rotation=0,axis='x', labelsize=18)\n",
    "  plt.grid('white')\n",
    "  plt.legend(prop={'size': 20})\n"
   ]
  },
  {
   "cell_type": "code",
   "execution_count": null,
   "id": "3dpx8wZ4jSau",
   "metadata": {
    "executionInfo": {
     "elapsed": 66,
     "status": "aborted",
     "timestamp": 1654280410637,
     "user": {
      "displayName": "the rexa",
      "userId": "02346515912121062735"
     },
     "user_tz": -360
    },
    "id": "3dpx8wZ4jSau"
   },
   "outputs": [],
   "source": [
    "model_all_evaluate(CBIGRU_history, CBILSTM_history,CLSTM_history, CGRU_history )"
   ]
  },
  {
   "cell_type": "code",
   "execution_count": null,
   "id": "1cc9fedc",
   "metadata": {
    "executionInfo": {
     "elapsed": 67,
     "status": "aborted",
     "timestamp": 1654280410638,
     "user": {
      "displayName": "the rexa",
      "userId": "02346515912121062735"
     },
     "user_tz": -360
    },
    "id": "1cc9fedc"
   },
   "outputs": [],
   "source": [
    "CBigru = load_model(model_path+\"models/w2v_CBIGRU.h5\")\n",
    "CBilstm = load_model(model_path+\"models/w2v_CBILSTM.h5\")\n",
    "Clstm = load_model(model_path+\"models/w2v_CLSTM.h5\")\n",
    "Cgru = load_model(model_path+\"models/w2v_CGRU.h5\")\n",
    "MLA = {\n",
    "     'CNN-BiRU' : CBigru,\n",
    "     'CNN-BiLSTM' : CBilstm,\n",
    "     'CNN-LSTM' : Clstm,\n",
    "     'CNN-GRU' : Cgru, \n",
    "}\n",
    "columns = []\n",
    "hybrid_compare = pd.DataFrame(columns = columns)\n",
    "# n_classes=4\n",
    "row_index = 0\n",
    "for name,alg in MLA.items():\n",
    "    MLA_name = name\n",
    "    evaluation = alg.evaluate(test_padded,y_test)\n",
    "    y_pred = alg.predict(test_padded)\n",
    "    weighted_averaged_recall = average_precision_score(testing_label_seq_numpy, y_pred, average='micro')\n",
    "    weighted_averaged_precision = average_precision_score(testing_label_seq_numpy, y_pred,  average='macro')\n",
    "\n",
    "    weighted_averaged_f1 = 2*((weighted_averaged_recall*weighted_averaged_precision)/(weighted_averaged_recall+weighted_averaged_precision))\n",
    "    hybrid_compare.loc[row_index,'Name'] = MLA_name\n",
    "    hybrid_compare.loc[row_index, 'Accuracy'] = evaluation[1]\n",
    "    hybrid_compare.loc[row_index, 'loss'] = evaluation[0]\n",
    "    hybrid_compare.loc[row_index, 'Precision'] = weighted_averaged_precision\n",
    "    hybrid_compare.loc[row_index, 'Recall'] = weighted_averaged_recall\n",
    "    hybrid_compare.loc[row_index, 'F1 Score'] = weighted_averaged_f1\n",
    "   \n",
    "\n",
    "    row_index+=1\n",
    "    \n",
    "hybrid_compare.sort_values(by = ['Accuracy'], ascending = False, inplace = True)    \n",
    "hybrid_compare"
   ]
  },
  {
   "cell_type": "code",
   "execution_count": null,
   "id": "kCBhR_idqOPo",
   "metadata": {
    "executionInfo": {
     "elapsed": 68,
     "status": "aborted",
     "timestamp": 1654280410640,
     "user": {
      "displayName": "the rexa",
      "userId": "02346515912121062735"
     },
     "user_tz": -360
    },
    "id": "kCBhR_idqOPo"
   },
   "outputs": [],
   "source": [
    "CBigru = load_model(model_path+\"models/CBIGRU.h5\")\n",
    "CBilstm = load_model(model_path+\"models/CBILSTM.h5\")\n",
    "Clstm = load_model(model_path+\"models/CLSTM.h5\")\n",
    "Cgru = load_model(model_path+\"models/CGRU.h5\")\n",
    "MLA = {\n",
    "     'CNN-BiRU' : CBigru,\n",
    "     'CNN-BiLSTM' : CBilstm,\n",
    "     'CNN-LSTM' : Clstm,\n",
    "     'CNN-GRU' : Cgru, \n",
    "}\n",
    "columns = []\n",
    "hybrid_compare = pd.DataFrame(columns = columns)\n",
    "# n_classes=4\n",
    "row_index = 0\n",
    "for name,alg in MLA.items():\n",
    "    MLA_name = name\n",
    "    evaluation = alg.evaluate(test_padded,y_test)\n",
    "    y_pred = alg.predict(test_padded)\n",
    "    weighted_averaged_recall = average_precision_score(testing_label_seq_numpy, y_pred, average='micro')\n",
    "    weighted_averaged_precision = average_precision_score(testing_label_seq_numpy, y_pred,  average='macro')\n",
    "\n",
    "    weighted_averaged_f1 = 2*((weighted_averaged_recall*weighted_averaged_precision)/(weighted_averaged_recall+weighted_averaged_precision))\n",
    "    hybrid_compare.loc[row_index,'Name'] = MLA_name\n",
    "    hybrid_compare.loc[row_index, 'Accuracy'] = evaluation[1]\n",
    "    hybrid_compare.loc[row_index, 'loss'] = evaluation[0]\n",
    "    hybrid_compare.loc[row_index, 'Precision'] = weighted_averaged_precision\n",
    "    hybrid_compare.loc[row_index, 'Recall'] = weighted_averaged_recall\n",
    "    hybrid_compare.loc[row_index, 'F1 Score'] = weighted_averaged_f1\n",
    "   \n",
    "\n",
    "    row_index+=1\n",
    "    \n",
    "hybrid_compare.sort_values(by = ['Accuracy'], ascending = False, inplace = True)    \n",
    "hybrid_compare"
   ]
  },
  {
   "cell_type": "code",
   "execution_count": null,
   "id": "aZWvJYzGr_9L",
   "metadata": {
    "executionInfo": {
     "elapsed": 68,
     "status": "aborted",
     "timestamp": 1654280410640,
     "user": {
      "displayName": "the rexa",
      "userId": "02346515912121062735"
     },
     "user_tz": -360
    },
    "id": "aZWvJYzGr_9L"
   },
   "outputs": [],
   "source": []
  }
 ],
 "metadata": {
  "accelerator": "GPU",
  "colab": {
   "collapsed_sections": [],
   "name": "(Word2Vec) drug SA.ipynb",
   "provenance": []
  },
  "kernelspec": {
   "display_name": "Python 3 (ipykernel)",
   "language": "python",
   "name": "python3"
  },
  "language_info": {
   "codemirror_mode": {
    "name": "ipython",
    "version": 3
   },
   "file_extension": ".py",
   "mimetype": "text/x-python",
   "name": "python",
   "nbconvert_exporter": "python",
   "pygments_lexer": "ipython3",
   "version": "3.9.7"
  }
 },
 "nbformat": 4,
 "nbformat_minor": 5
}
